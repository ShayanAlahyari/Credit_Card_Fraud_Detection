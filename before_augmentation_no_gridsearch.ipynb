{
 "cells": [
  {
   "cell_type": "code",
   "execution_count": 20,
   "metadata": {},
   "outputs": [],
   "source": [
    "import pandas as pd\n",
    "import numpy as np\n",
    "from sklearn.model_selection import StratifiedShuffleSplit, GridSearchCV\n",
    "from sklearn.preprocessing import StandardScaler\n",
    "from sklearn.linear_model import LogisticRegression\n",
    "from sklearn.ensemble import RandomForestClassifier\n",
    "from xgboost import XGBClassifier\n",
    "from sklearn.svm import SVC\n",
    "from sklearn.metrics import roc_auc_score, precision_score, recall_score, f1_score, classification_report\n",
    "from sklearn.pipeline import Pipeline\n",
    "from sklearn.compose import ColumnTransformer\n",
    "from sklearn.impute import SimpleImputer\n",
    "from sklearn.preprocessing import OneHotEncoder\n",
    "from sklearn.metrics import confusion_matrix\n",
    "\n",
    "\n"
   ]
  },
  {
   "cell_type": "code",
   "execution_count": 21,
   "metadata": {},
   "outputs": [],
   "source": [
    "data = pd.read_csv('creditcard.csv')"
   ]
  },
  {
   "cell_type": "code",
   "execution_count": 22,
   "metadata": {},
   "outputs": [],
   "source": [
    "splitter = StratifiedShuffleSplit(n_splits=1,test_size=0.2)\n"
   ]
  },
  {
   "cell_type": "code",
   "execution_count": 23,
   "metadata": {},
   "outputs": [],
   "source": [
    "for train_index, test_index in splitter.split(data,data['Class']):\n",
    "    train_data = data.iloc[train_index]\n",
    "    validation_data = data.iloc[test_index]"
   ]
  },
  {
   "cell_type": "code",
   "execution_count": 24,
   "metadata": {},
   "outputs": [],
   "source": [
    "X_train = train_data.drop(['Class'],axis=1)\n",
    "y_train = train_data['Class']\n",
    "\n",
    "X_validation = validation_data.drop(['Class'],axis=1)\n",
    "y_validation = validation_data['Class']"
   ]
  },
  {
   "cell_type": "code",
   "execution_count": 25,
   "metadata": {},
   "outputs": [],
   "source": [
    "numerical_features = X_train.select_dtypes(include=['int64','float64']).columns.tolist()\n",
    "categorical_features = X_train.select_dtypes(include=['category','bool','object']).columns.tolist()"
   ]
  },
  {
   "cell_type": "code",
   "execution_count": 26,
   "metadata": {},
   "outputs": [],
   "source": [
    "numerical_pipeline = Pipeline(\n",
    "    steps=[\n",
    "        ('imputer',SimpleImputer(strategy='median')),\n",
    "        ('scaler',StandardScaler())\n",
    "    ]\n",
    ")\n",
    "\n",
    "categorical_pipeline = Pipeline(\n",
    "    steps=[\n",
    "        ('imputer',SimpleImputer(strategy='most_frequent')),\n",
    "        ('onehot',OneHotEncoder(handle_unknown='ignore'))\n",
    "    ]\n",
    ")"
   ]
  },
  {
   "cell_type": "code",
   "execution_count": 27,
   "metadata": {},
   "outputs": [],
   "source": [
    "preprocessor = ColumnTransformer(\n",
    "    transformers=[\n",
    "        ('num',numerical_pipeline,numerical_features),\n",
    "        ('cat',categorical_pipeline,categorical_features)\n",
    "    ]\n",
    ")"
   ]
  },
  {
   "cell_type": "code",
   "execution_count": 28,
   "metadata": {},
   "outputs": [],
   "source": [
    "reg = LogisticRegression()\n",
    "xgb = XGBClassifier()\n",
    "svm = SVC()\n",
    "models = [reg,xgb,svm]"
   ]
  },
  {
   "cell_type": "code",
   "execution_count": null,
   "metadata": {},
   "outputs": [
    {
     "name": "stdout",
     "output_type": "stream",
     "text": [
      "Model: LogisticRegression\n",
      "ROC AUC Score: 0.9666\n",
      "Precision: 0.8933\n",
      "Recall: 0.6837\n",
      "F1 Score: 0.7746\n",
      "Confusion Matrix:\n",
      "[[56856     8]\n",
      " [   31    67]]\n",
      "----------------------------------------\n",
      "Model: XGBClassifier\n",
      "ROC AUC Score: 0.9705\n",
      "Precision: 0.9512\n",
      "Recall: 0.7959\n",
      "F1 Score: 0.8667\n",
      "Confusion Matrix:\n",
      "[[56860     4]\n",
      " [   20    78]]\n",
      "----------------------------------------\n"
     ]
    }
   ],
   "source": [
    "best_roc_auc = -1\n",
    "best_model = None\n",
    "\n",
    "for model in models:\n",
    "    pipe = Pipeline(\n",
    "        steps=[\n",
    "            ('preprocessor', preprocessor),\n",
    "            ('model', model)\n",
    "        ]\n",
    "    )\n",
    "    \n",
    "    # Fit the pipeline on the training data\n",
    "    pipe.fit(X_train, y_train)\n",
    "    \n",
    "    # Make predictions on the validation data\n",
    "    y_val_pred = pipe.predict(X_validation)\n",
    "    y_val_prob = pipe.predict_proba(X_validation)[:, 1]\n",
    "    \n",
    "    # Calculate performance metrics\n",
    "    roc_auc = roc_auc_score(y_validation, y_val_prob)\n",
    "    precision = precision_score(y_validation, y_val_pred)\n",
    "    recall = recall_score(y_validation, y_val_pred)\n",
    "    f1 = f1_score(y_validation, y_val_pred)\n",
    "    conf_matrix = confusion_matrix(y_validation, y_val_pred)\n",
    "    \n",
    "    # Print the model's performance\n",
    "    print(f\"Model: {model.__class__.__name__}\")\n",
    "    print(f\"ROC AUC Score: {roc_auc:.4f}\")\n",
    "    print(f\"Precision: {precision:.4f}\")\n",
    "    print(f\"Recall: {recall:.4f}\")\n",
    "    print(f\"F1 Score: {f1:.4f}\")\n",
    "    print(\"Confusion Matrix:\")\n",
    "    print(conf_matrix)\n",
    "    print(\"-\" * 40)"
   ]
  }
 ],
 "metadata": {
  "kernelspec": {
   "display_name": "Python 3",
   "language": "python",
   "name": "python3"
  },
  "language_info": {
   "codemirror_mode": {
    "name": "ipython",
    "version": 3
   },
   "file_extension": ".py",
   "mimetype": "text/x-python",
   "name": "python",
   "nbconvert_exporter": "python",
   "pygments_lexer": "ipython3",
   "version": "3.12.6"
  }
 },
 "nbformat": 4,
 "nbformat_minor": 2
}
